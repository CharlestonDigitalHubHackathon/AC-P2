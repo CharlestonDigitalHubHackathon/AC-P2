{
 "cells": [
  {
   "cell_type": "code",
   "execution_count": 20,
   "metadata": {},
   "outputs": [],
   "source": [
    "import pandas as pd\n",
    "import numpy as np\n",
    "from sklearn.linear_model import LinearRegression as lr\n",
    "import numpy as np\n",
    "from statsmodels.tsa.arima_model import ARIMA\n",
    "\n",
    "import warnings\n",
    "warnings.simplefilter(action='ignore', category=FutureWarning)"
   ]
  },
  {
   "cell_type": "code",
   "execution_count": 21,
   "metadata": {},
   "outputs": [],
   "source": [
    "country_data = pd.read_csv(\"../Data/GlobalLandTemperaturesByCountry.csv\")\n",
    "major_city_data = pd.read_csv(\"../Data/GlobalLandTemperaturesByMajorCity.csv\")"
   ]
  },
  {
   "cell_type": "code",
   "execution_count": 22,
   "metadata": {},
   "outputs": [],
   "source": [
    "country_data[\"dt\"] = pd.to_datetime(country_data[\"dt\"])\n",
    "major_city_data[\"dt\"] = pd.to_datetime(major_city_data[\"dt\"])"
   ]
  },
  {
   "cell_type": "code",
   "execution_count": 23,
   "metadata": {},
   "outputs": [],
   "source": [
    "data = major_city_data[[\"dt\",\"AverageTemperature\", \"City\"]]\n",
    "city_model_dict = dict()\n",
    "\n",
    "for city in major_city_data[\"City\"].unique():\n",
    "    data2 = data[data[\"City\"]==str(city)]\n",
    "    data2 = data2[[\"dt\", \"AverageTemperature\"]]\n",
    "    data2 = data2.set_index(\"dt\")\n",
    "    data2 = data2.fillna(method=\"backfill\")\n",
    "    data2 = data2.fillna(method=\"ffill\")\n",
    "    model = ARIMA(data2, order=(6,2,0))\n",
    "    model_fit = model.fit(disp=0)\n",
    "    city_model_dict[city] = model_fit"
   ]
  },
  {
   "cell_type": "markdown",
   "metadata": {},
   "source": [
    "We can specify any of the 100 major cities in the world and how far out we want to make the forecast. M is the number of months after September 2013, which is the end of our dataset."
   ]
  },
  {
   "cell_type": "code",
   "execution_count": 33,
   "metadata": {},
   "outputs": [
    {
     "data": {
      "text/plain": [
       "32.05382609012178"
      ]
     },
     "execution_count": 33,
     "metadata": {},
     "output_type": "execute_result"
    }
   ],
   "source": [
    "city = \"Madrid\"\n",
    "m = 20\n",
    "city_model_dict[city].forecast(m)[0][m-1]"
   ]
  },
  {
   "cell_type": "code",
   "execution_count": 25,
   "metadata": {},
   "outputs": [],
   "source": [
    "data = country_data[[\"dt\",\"AverageTemperature\", \"Country\"]]\n",
    "country_model_dict = dict()\n",
    "country_set = set(country_data[\"Country\"].unique())\n",
    "country_set.remove(\"Antarctica\")\n",
    "\n",
    "for country in country_set:\n",
    "    data2 = data[data[\"Country\"]==str(country)]\n",
    "    data2 = data2[[\"dt\", \"AverageTemperature\"]]\n",
    "    data2 = data2.set_index(\"dt\")\n",
    "    data2 = data2.fillna(method=\"backfill\")\n",
    "    data2 = data2.fillna(method=\"ffill\")\n",
    "    null_data = data2[data2.isnull().any(axis=1)]\n",
    "    #print(country, null_data)\n",
    "    model = ARIMA(data2, order=(6,2,0))\n",
    "    model_fit = model.fit(disp=0)\n",
    "    country_model_dict[country] = model_fit"
   ]
  },
  {
   "cell_type": "code",
   "execution_count": 34,
   "metadata": {},
   "outputs": [
    {
     "data": {
      "text/plain": [
       "14.063219231743279"
      ]
     },
     "execution_count": 34,
     "metadata": {},
     "output_type": "execute_result"
    }
   ],
   "source": [
    "Country = \"Spain\"\n",
    "m = 20\n",
    "country_model_dict[country].forecast(m)[0][m-1]"
   ]
  },
  {
   "cell_type": "code",
   "execution_count": null,
   "metadata": {},
   "outputs": [],
   "source": []
  }
 ],
 "metadata": {
  "kernelspec": {
   "display_name": "Python 3",
   "language": "python",
   "name": "python3"
  },
  "language_info": {
   "codemirror_mode": {
    "name": "ipython",
    "version": 3
   },
   "file_extension": ".py",
   "mimetype": "text/x-python",
   "name": "python",
   "nbconvert_exporter": "python",
   "pygments_lexer": "ipython3",
   "version": "3.5.2"
  }
 },
 "nbformat": 4,
 "nbformat_minor": 2
}
